{
 "cells": [
  {
   "cell_type": "code",
   "execution_count": 30,
   "metadata": {},
   "outputs": [
    {
     "name": "stdout",
     "output_type": "stream",
     "text": [
      "A, 12\n",
      "C, 12\n",
      "D, 12\n"
     ]
    }
   ],
   "source": [
    "class Driver:\n",
    "    def __init__(self):\n",
    "        self._attr = 12\n",
    "    def functionA(self):\n",
    "        print(f\"A, {self._attr}\")\n",
    "\n",
    "    def functionB(self):\n",
    "        print(\"B\")\n",
    "\n",
    "\n",
    "def functionC(self):\n",
    "    print(f\"C, {self._attr}\")\n",
    "\n",
    "Driver.functionC = functionC\n",
    "\n",
    "\n",
    "Driver.functionD = lambda self : print(f\"D, {self._attr}\")\n",
    "\n",
    "\n",
    "\n",
    "d = Driver()\n",
    "d.functionA()\n",
    "d.functionC()\n",
    "d.functionD()"
   ]
  },
  {
   "cell_type": "code",
   "execution_count": null,
   "metadata": {},
   "outputs": [],
   "source": [
    "\n",
    "\n",
    "d2 = Driver()\n",
    "d2.functionA()\n",
    "\n",
    "d2._attr = 1\n",
    "\n",
    "d2.functionC()"
   ]
  }
 ],
 "metadata": {
  "kernelspec": {
   "display_name": "Python 3.10.8 ('python')",
   "language": "python",
   "name": "python3"
  },
  "language_info": {
   "codemirror_mode": {
    "name": "ipython",
    "version": 3
   },
   "file_extension": ".py",
   "mimetype": "text/x-python",
   "name": "python",
   "nbconvert_exporter": "python",
   "pygments_lexer": "ipython3",
   "version": "3.10.8"
  },
  "orig_nbformat": 4,
  "vscode": {
   "interpreter": {
    "hash": "b19039b57ab408a75ec292626f0bb4d90d49370d48dc224113c676678d72d8bd"
   }
  }
 },
 "nbformat": 4,
 "nbformat_minor": 2
}
