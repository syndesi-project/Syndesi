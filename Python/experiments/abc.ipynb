{
 "cells": [
  {
   "cell_type": "code",
   "execution_count": 19,
   "metadata": {},
   "outputs": [
    {
     "ename": "TypeError",
     "evalue": "Can't instantiate abstract class Derived with abstract method functionA",
     "output_type": "error",
     "traceback": [
      "\u001b[0;31m---------------------------------------------------------------------------\u001b[0m",
      "\u001b[0;31mTypeError\u001b[0m                                 Traceback (most recent call last)",
      "\u001b[1;32m/home/sebastien/Documents/Projets/Syndesi/Syndesi/Python/experiments/abc.ipynb Cellule 1\u001b[0m in \u001b[0;36m<cell line: 18>\u001b[0;34m()\u001b[0m\n\u001b[1;32m     <a href='vscode-notebook-cell:/home/sebastien/Documents/Projets/Syndesi/Syndesi/Python/experiments/abc.ipynb#W0sZmlsZQ%3D%3D?line=12'>13</a>\u001b[0m     \u001b[39mpass\u001b[39;00m\n\u001b[1;32m     <a href='vscode-notebook-cell:/home/sebastien/Documents/Projets/Syndesi/Syndesi/Python/experiments/abc.ipynb#W0sZmlsZQ%3D%3D?line=13'>14</a>\u001b[0m     \u001b[39m#def functionA(self):\u001b[39;00m\n\u001b[1;32m     <a href='vscode-notebook-cell:/home/sebastien/Documents/Projets/Syndesi/Syndesi/Python/experiments/abc.ipynb#W0sZmlsZQ%3D%3D?line=14'>15</a>\u001b[0m     \u001b[39m#    print(\"A\")\u001b[39;00m\n\u001b[0;32m---> <a href='vscode-notebook-cell:/home/sebastien/Documents/Projets/Syndesi/Syndesi/Python/experiments/abc.ipynb#W0sZmlsZQ%3D%3D?line=17'>18</a>\u001b[0m d \u001b[39m=\u001b[39m Derived()\n\u001b[1;32m     <a href='vscode-notebook-cell:/home/sebastien/Documents/Projets/Syndesi/Syndesi/Python/experiments/abc.ipynb#W0sZmlsZQ%3D%3D?line=19'>20</a>\u001b[0m d\u001b[39m.\u001b[39mfunctionA()\n\u001b[1;32m     <a href='vscode-notebook-cell:/home/sebastien/Documents/Projets/Syndesi/Syndesi/Python/experiments/abc.ipynb#W0sZmlsZQ%3D%3D?line=21'>22</a>\u001b[0m d\u001b[39m.\u001b[39mfunctionB()\n",
      "\u001b[0;31mTypeError\u001b[0m: Can't instantiate abstract class Derived with abstract method functionA"
     ]
    }
   ],
   "source": [
    "from abc import ABC, abstractmethod, ABCMeta\n",
    "\n",
    "\n",
    "class Base(metaclass=ABCMeta):\n",
    "    @abstractmethod\n",
    "    def functionA(self):\n",
    "        raise NotImplementedError\n",
    "\n",
    "    def functionB(self):\n",
    "        print(\"B\")\n",
    "\n",
    "class Derived(Base):\n",
    "    pass\n",
    "    #def functionA(self):\n",
    "    #    print(\"A\")\n",
    "\n",
    "\n",
    "d = Derived()\n",
    "\n",
    "d.functionA()\n",
    "\n",
    "d.functionB()\n",
    "\n",
    "dir(d)"
   ]
  }
 ],
 "metadata": {
  "kernelspec": {
   "display_name": "Python 3.10.8 64-bit",
   "language": "python",
   "name": "python3"
  },
  "language_info": {
   "codemirror_mode": {
    "name": "ipython",
    "version": 3
   },
   "file_extension": ".py",
   "mimetype": "text/x-python",
   "name": "python",
   "nbconvert_exporter": "python",
   "pygments_lexer": "ipython3",
   "version": "3.10.8"
  },
  "orig_nbformat": 4,
  "vscode": {
   "interpreter": {
    "hash": "33b2455c68b398d7e55e1ebafbc7f78a634d91281a9b4cd2dbf2841e6099226f"
   }
  }
 },
 "nbformat": 4,
 "nbformat_minor": 2
}
